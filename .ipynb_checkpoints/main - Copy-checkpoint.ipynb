{
 "cells": [
  {
   "cell_type": "markdown",
   "id": "6b8440b8",
   "metadata": {},
   "source": [
    "### Introduction"
   ]
  },
  {
   "cell_type": "markdown",
   "id": "e00a1daa",
   "metadata": {},
   "source": [
    "The following code enables analysis of a queueing network. The structure of the network and the model parameters (arrival rates, service times, capacities, distributions) can be specified in the input files.<br />\n",
    "Please refer to the folder structure in the Python environment we shared with you ahead of this workshop:<br />\n",
    "- the current Jupyter notebook should be in the same folder as the folders \"functions\" and \"data\"\n",
    "- the folder \"functions\" contains all the Python code needed to run the simulations we see in this workshop\n",
    "- the folder \"data\" contains input/output files - for each analysis, a sub-folder must be created in here named after the \"analysisID\", with further sub-folders named \"input\" and \"output\" which will be described during the workshop"
   ]
  },
  {
   "cell_type": "markdown",
   "id": "65e0500d",
   "metadata": {},
   "source": [
    "### 0) Import packages and functions"
   ]
  },
  {
   "cell_type": "code",
   "execution_count": 1,
   "id": "a9c1372d",
   "metadata": {},
   "outputs": [],
   "source": [
    "#Reload functions every time\n",
    "%load_ext autoreload\n",
    "%autoreload 2\n",
    "\n",
    "#Tell Python where to read our simulator from (folder \"functions\" in the current directory)\n",
    "import sys\n",
    "sys.path.insert(0, 'functions')\n",
    "\n",
    "#Load the simulator into the current Python session\n",
    "import queue_network_simulator as qns  #all functions enabling simulation\n",
    "import plotting_functions as pf  #all functions enabling analysis and storage of results\n"
   ]
  },
  {
   "cell_type": "markdown",
   "id": "4328324d",
   "metadata": {},
   "source": [
    "### 1) Simulation parameters"
   ]
  },
  {
   "cell_type": "code",
   "execution_count": 103,
   "id": "df04375d",
   "metadata": {},
   "outputs": [],
   "source": [
    "#Location of input/output files\n",
    "analysisID = \"ECU_mod_flow\"\n",
    "analysis_location = \"data\"\n",
    "\n",
    "#Simulation parameters\n",
    "number_of_runs = 20  #How many times we want to run the simulator\n",
    "warm_up_duration = 100  #How many time units should the simulator \"warm up\" in order to reach numerical stability\n",
    "sim_duration = 100  #How many time units should the actual simulation last (excluding warm-up)\n",
    "plot_length = 100  #How many time units of the simulation we want to plot in the results\n"
   ]
  },
  {
   "cell_type": "markdown",
   "id": "58650428",
   "metadata": {},
   "source": [
    "### 3) Read input data about the model"
   ]
  },
  {
   "cell_type": "markdown",
   "id": "8c53f767",
   "metadata": {},
   "source": [
    "All this information is provided via the txt files in the \"input\" folder of the current analysis."
   ]
  },
  {
   "cell_type": "code",
   "execution_count": 104,
   "id": "74a4ca5e",
   "metadata": {},
   "outputs": [],
   "source": [
    "#We use the function read_input() from the module \"qns\" to store input data into Python variables\n",
    "#We need to specify where data should be read from\n",
    "model_parameters = qns.read_input(analysisID,analysis_location)\n"
   ]
  },
  {
   "cell_type": "markdown",
   "id": "96402b5c",
   "metadata": {},
   "source": [
    "Let's also have a look at how the parameters are stored into Python variables"
   ]
  },
  {
   "cell_type": "code",
   "execution_count": 108,
   "id": "0500691a",
   "metadata": {},
   "outputs": [
    {
     "data": {
      "text/plain": [
       "{'clinic': 1}"
      ]
     },
     "execution_count": 108,
     "metadata": {},
     "output_type": "execute_result"
    }
   ],
   "source": [
    "model_parameters[\"capacities\"]"
   ]
  },
  {
   "cell_type": "code",
   "execution_count": 109,
   "id": "7123f3ed",
   "metadata": {},
   "outputs": [
    {
     "data": {
      "text/plain": [
       "{'traj1':      step service_time_distribution  length_of_need\n",
       " 0  clinic               exponential             0.1}"
      ]
     },
     "execution_count": 109,
     "metadata": {},
     "output_type": "execute_result"
    }
   ],
   "source": [
    "model_parameters[\"trajectories\"]"
   ]
  },
  {
   "cell_type": "markdown",
   "id": "ae552afa",
   "metadata": {},
   "source": [
    "### 4) Run simulation"
   ]
  },
  {
   "cell_type": "code",
   "execution_count": 110,
   "id": "1dc92aaa",
   "metadata": {},
   "outputs": [
    {
     "name": "stdout",
     "output_type": "stream",
     "text": [
      "Run 1 of 100\n",
      "\n",
      "Run 2 of 100\n",
      "\n",
      "Run 3 of 100\n",
      "\n",
      "Run 4 of 100\n",
      "\n",
      "Run 5 of 100\n",
      "\n",
      "Run 6 of 100\n",
      "\n",
      "Run 7 of 100\n",
      "\n",
      "Run 8 of 100\n",
      "\n",
      "Run 9 of 100\n",
      "\n",
      "Run 10 of 100\n",
      "\n",
      "Run 11 of 100\n",
      "\n",
      "Run 12 of 100\n",
      "\n",
      "Run 13 of 100\n",
      "\n",
      "Run 14 of 100\n",
      "\n",
      "Run 15 of 100\n",
      "\n",
      "Run 16 of 100\n",
      "\n",
      "Run 17 of 100\n",
      "\n",
      "Run 18 of 100\n",
      "\n",
      "Run 19 of 100\n",
      "\n",
      "Run 20 of 100\n",
      "\n",
      "Run 21 of 100\n",
      "\n",
      "Run 22 of 100\n",
      "\n",
      "Run 23 of 100\n",
      "\n",
      "Run 24 of 100\n",
      "\n",
      "Run 25 of 100\n",
      "\n",
      "Run 26 of 100\n",
      "\n",
      "Run 27 of 100\n",
      "\n",
      "Run 28 of 100\n",
      "\n",
      "Run 29 of 100\n",
      "\n",
      "Run 30 of 100\n",
      "\n",
      "Run 31 of 100\n",
      "\n",
      "Run 32 of 100\n",
      "\n",
      "Run 33 of 100\n",
      "\n",
      "Run 34 of 100\n",
      "\n",
      "Run 35 of 100\n",
      "\n",
      "Run 36 of 100\n",
      "\n",
      "Run 37 of 100\n",
      "\n",
      "Run 38 of 100\n",
      "\n",
      "Run 39 of 100\n",
      "\n",
      "Run 40 of 100\n",
      "\n",
      "Run 41 of 100\n",
      "\n",
      "Run 42 of 100\n",
      "\n",
      "Run 43 of 100\n",
      "\n",
      "Run 44 of 100\n",
      "\n",
      "Run 45 of 100\n",
      "\n",
      "Run 46 of 100\n",
      "\n",
      "Run 47 of 100\n",
      "\n",
      "Run 48 of 100\n",
      "\n",
      "Run 49 of 100\n",
      "\n",
      "Run 50 of 100\n",
      "\n",
      "Run 51 of 100\n",
      "\n",
      "Run 52 of 100\n",
      "\n",
      "Run 53 of 100\n",
      "\n",
      "Run 54 of 100\n",
      "\n",
      "Run 55 of 100\n",
      "\n",
      "Run 56 of 100\n",
      "\n",
      "Run 57 of 100\n",
      "\n",
      "Run 58 of 100\n",
      "\n",
      "Run 59 of 100\n",
      "\n",
      "Run 60 of 100\n",
      "\n",
      "Run 61 of 100\n",
      "\n",
      "Run 62 of 100\n",
      "\n",
      "Run 63 of 100\n",
      "\n",
      "Run 64 of 100\n",
      "\n",
      "Run 65 of 100\n",
      "\n",
      "Run 66 of 100\n",
      "\n",
      "Run 67 of 100\n",
      "\n",
      "Run 68 of 100\n",
      "\n",
      "Run 69 of 100\n",
      "\n",
      "Run 70 of 100\n",
      "\n",
      "Run 71 of 100\n",
      "\n",
      "Run 72 of 100\n",
      "\n",
      "Run 73 of 100\n",
      "\n",
      "Run 74 of 100\n",
      "\n",
      "Run 75 of 100\n",
      "\n",
      "Run 76 of 100\n",
      "\n",
      "Run 77 of 100\n",
      "\n",
      "Run 78 of 100\n",
      "\n",
      "Run 79 of 100\n",
      "\n",
      "Run 80 of 100\n",
      "\n",
      "Run 81 of 100\n",
      "\n",
      "Run 82 of 100\n",
      "\n",
      "Run 83 of 100\n",
      "\n",
      "Run 84 of 100\n",
      "\n",
      "Run 85 of 100\n",
      "\n",
      "Run 86 of 100\n",
      "\n",
      "Run 87 of 100\n",
      "\n",
      "Run 88 of 100\n",
      "\n",
      "Run 89 of 100\n",
      "\n",
      "Run 90 of 100\n",
      "\n",
      "Run 91 of 100\n",
      "\n",
      "Run 92 of 100\n",
      "\n",
      "Run 93 of 100\n",
      "\n",
      "Run 94 of 100\n",
      "\n",
      "Run 95 of 100\n",
      "\n",
      "Run 96 of 100\n",
      "\n",
      "Run 97 of 100\n",
      "\n",
      "Run 98 of 100\n",
      "\n",
      "Run 99 of 100\n",
      "\n",
      "Run 100 of 100\n",
      "\n"
     ]
    }
   ],
   "source": [
    "raw_data = {}  #We initialise the raw output object as an empty \"dictionary\" (unordered list)\n",
    "\n",
    "for r in range(number_of_runs):  #Letting the iterator r vary across the number of runs\n",
    "    print(f\"Run {r+1} of {number_of_runs}\")\n",
    "    my_model = qns.PathwayModel(r, model_parameters, warm_up_duration, sim_duration) #Build a model instance for the current run\n",
    "    my_model.run(r) #Run the simulation\n",
    "    raw_data[r+1] = my_model.output #Store the results as a new element in raw_data\n",
    "    print()\n",
    " "
   ]
  },
  {
   "cell_type": "markdown",
   "id": "8f81f6a7",
   "metadata": {},
   "source": [
    "### 5) Plot and save results"
   ]
  },
  {
   "cell_type": "markdown",
   "id": "a7bb32cf",
   "metadata": {},
   "source": [
    "Exploring the behaviour of the model to understand how long our simulation experiment should last"
   ]
  },
  {
   "cell_type": "code",
   "execution_count": 111,
   "id": "aff8327b",
   "metadata": {},
   "outputs": [
    {
     "data": {
      "image/png": "[encoded data removed]",
      "text/plain": [
       "<Figure size 432x288 with 1 Axes>"
      ]
     },
     "metadata": {
      "needs_background": "light"
     },
     "output_type": "display_data"
    }
   ],
   "source": [
    "plot_from = warm_up_duration + 1\n",
    "plot_to = warm_up_duration + plot_length\n",
    "\n",
    "time_transformation = 1\n",
    "\n",
    "pf.plot_wait_over_time(raw_data, plot_from, plot_to, analysisID, analysis_location, time_transformation)\n"
   ]
  },
  {
   "cell_type": "markdown",
   "id": "dfdac9b1",
   "metadata": {},
   "source": [
    "Distribution of overall patient waiting time (across the whole network)"
   ]
  },
  {
   "cell_type": "code",
   "execution_count": 112,
   "id": "182e3d52",
   "metadata": {},
   "outputs": [
    {
     "name": "stdout",
     "output_type": "stream",
     "text": [
      "Expected overall waiting time: 0.88\n"
     ]
    },
    {
     "data": {
      "image/png": "[encoded data removed]",
      "text/plain": [
       "<Figure size 432x288 with 1 Axes>"
      ]
     },
     "metadata": {
      "needs_background": "light"
     },
     "output_type": "display_data"
    }
   ],
   "source": [
    "plot_from = warm_up_duration + 1\n",
    "plot_to = warm_up_duration + plot_length\n",
    "\n",
    "time_transformation = 1\n",
    "hist_bins = 30\n",
    "\n",
    "pf.plot_total_waiting_time(raw_data, plot_from, plot_to, analysisID, analysis_location, time_transformation, hist_bins)\n"
   ]
  },
  {
   "cell_type": "markdown",
   "id": "10355470",
   "metadata": {},
   "source": [
    "Distribution of patient waiting time at each step in the network"
   ]
  },
  {
   "cell_type": "code",
   "execution_count": 113,
   "id": "9ee09fe5",
   "metadata": {},
   "outputs": [
    {
     "name": "stdout",
     "output_type": "stream",
     "text": [
      "Expected waiting time at clinic : 0.88\n"
     ]
    },
    {
     "data": {
      "image/png": "[encoded data removed]",
      "text/plain": [
       "<Figure size 432x288 with 1 Axes>"
      ]
     },
     "metadata": {
      "needs_background": "light"
     },
     "output_type": "display_data"
    }
   ],
   "source": [
    "plot_from = warm_up_duration + 1\n",
    "plot_to = warm_up_duration + plot_length\n",
    "\n",
    "time_transformation = 1\n",
    "hist_bins = 30\n",
    "\n",
    "for node_iter in my_model.node_ids:\n",
    "    pf.plot_waiting_time(raw_data, node_iter, plot_from, plot_to, analysisID, analysis_location, time_transformation, hist_bins)\n"
   ]
  },
  {
   "cell_type": "code",
   "execution_count": null,
   "id": "91b67baa",
   "metadata": {},
   "outputs": [],
   "source": []
  }
 ],
 "metadata": {
  "kernelspec": {
   "display_name": "Python 3",
   "language": "python",
   "name": "python3"
  },
  "language_info": {
   "codemirror_mode": {
    "name": "ipython",
    "version": 3
   },
   "file_extension": ".py",
   "mimetype": "text/x-python",
   "name": "python",
   "nbconvert_exporter": "python",
   "pygments_lexer": "ipython3",
   "version": "3.8.8"
  }
 },
 "nbformat": 4,
 "nbformat_minor": 5
}
