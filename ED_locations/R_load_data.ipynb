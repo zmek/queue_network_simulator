{
 "cells": [
  {
   "cell_type": "code",
   "execution_count": 4,
   "id": "b10222d5-1e7f-43a4-9c63-463e372b9f54",
   "metadata": {},
   "outputs": [],
   "source": [
    "library(data.table)\n",
    "library(readr)"
   ]
  },
  {
   "cell_type": "code",
   "execution_count": 6,
   "id": "ee2cd7a7-15a7-4736-a27f-a561defdf2ad",
   "metadata": {},
   "outputs": [],
   "source": [
    "load('data-raw/ED_bed_moves_raw_2022-03-21.rda')"
   ]
  },
  {
   "cell_type": "code",
   "execution_count": 7,
   "id": "e5e4a2c8-1200-47a2-8b51-642685bb5208",
   "metadata": {},
   "outputs": [],
   "source": [
    "moves = data.table(ED_bed_moves_raw)"
   ]
  },
  {
   "cell_type": "code",
   "execution_count": 8,
   "id": "bcece260-04b0-4cfd-9914-d5b373806347",
   "metadata": {},
   "outputs": [],
   "source": [
    "fwrite(moves[, .(csn, location_string, admission, discharge, location = room4)], 'ED_bed_moves_raw_2022-03-21.csv')"
   ]
  },
  {
   "cell_type": "code",
   "execution_count": null,
   "id": "9c3692b4-874c-4835-9b80-10d0a5198c16",
   "metadata": {},
   "outputs": [],
   "source": []
  }
 ],
 "metadata": {
  "kernelspec": {
   "display_name": "R",
   "language": "R",
   "name": "ir"
  },
  "language_info": {
   "codemirror_mode": "r",
   "file_extension": ".r",
   "mimetype": "text/x-r-source",
   "name": "R",
   "pygments_lexer": "r",
   "version": "4.3.3"
  }
 },
 "nbformat": 4,
 "nbformat_minor": 5
}
