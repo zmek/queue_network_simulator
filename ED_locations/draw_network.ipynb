{
 "cells": [
  {
   "cell_type": "code",
   "execution_count": 3,
   "id": "704a9c94",
   "metadata": {},
   "outputs": [],
   "source": [
    "## Installing from my Macbook"
   ]
  },
  {
   "cell_type": "code",
   "execution_count": 2,
   "id": "efa3f267",
   "metadata": {},
   "outputs": [
    {
     "name": "stdout",
     "output_type": "stream",
     "text": [
      "Collecting pygraphviz\n",
      "  Using cached pygraphviz-1.11-cp39-cp39-macosx_13_0_arm64.whl\n",
      "Installing collected packages: pygraphviz\n",
      "Successfully installed pygraphviz-1.11\n",
      "\n",
      "\u001b[1m[\u001b[0m\u001b[34;49mnotice\u001b[0m\u001b[1;39;49m]\u001b[0m\u001b[39;49m A new release of pip is available: \u001b[0m\u001b[31;49m22.2.2\u001b[0m\u001b[39;49m -> \u001b[0m\u001b[32;49m24.2\u001b[0m\n",
      "\u001b[1m[\u001b[0m\u001b[34;49mnotice\u001b[0m\u001b[1;39;49m]\u001b[0m\u001b[39;49m To update, run: \u001b[0m\u001b[32;49mpip install --upgrade pip\u001b[0m\n"
     ]
    }
   ],
   "source": [
    "!pip install pygraphviz"
   ]
  },
  {
   "cell_type": "code",
   "execution_count": 9,
   "id": "63944cfa-d08e-4a2b-b4bc-93101edc398e",
   "metadata": {},
   "outputs": [],
   "source": [
    "import pygraphviz as pgv\n",
    "import matplotlib.pyplot as plt\n",
    "import pandas as pd\n"
   ]
  },
  {
   "cell_type": "code",
   "execution_count": 11,
   "id": "890cde6d",
   "metadata": {},
   "outputs": [
    {
     "data": {
      "text/plain": [
       "['Python_save_ED_edge_list.ipynb',\n",
       " 'draw_network.ipynb',\n",
       " 'R_load_data.ipynb',\n",
       " 'edge_list.csv']"
      ]
     },
     "execution_count": 11,
     "metadata": {},
     "output_type": "execute_result"
    }
   ],
   "source": [
    "import os\n",
    "os.listdir()"
   ]
  },
  {
   "cell_type": "code",
   "execution_count": 13,
   "id": "35e3474a",
   "metadata": {},
   "outputs": [
    {
     "data": {
      "text/html": [
       "<div>\n",
       "<style scoped>\n",
       "    .dataframe tbody tr th:only-of-type {\n",
       "        vertical-align: middle;\n",
       "    }\n",
       "\n",
       "    .dataframe tbody tr th {\n",
       "        vertical-align: top;\n",
       "    }\n",
       "\n",
       "    .dataframe thead th {\n",
       "        text-align: right;\n",
       "    }\n",
       "</style>\n",
       "<table border=\"1\" class=\"dataframe\">\n",
       "  <thead>\n",
       "    <tr style=\"text-align: right;\">\n",
       "      <th></th>\n",
       "      <th>location</th>\n",
       "      <th>next_location</th>\n",
       "      <th>frequency</th>\n",
       "    </tr>\n",
       "  </thead>\n",
       "  <tbody>\n",
       "    <tr>\n",
       "      <th>0</th>\n",
       "      <td>ED CDU</td>\n",
       "      <td>ED CDU</td>\n",
       "      <td>180</td>\n",
       "    </tr>\n",
       "    <tr>\n",
       "      <th>1</th>\n",
       "      <td>ED CDU</td>\n",
       "      <td>ED MAJORS</td>\n",
       "      <td>94</td>\n",
       "    </tr>\n",
       "    <tr>\n",
       "      <th>2</th>\n",
       "      <td>ED CDU</td>\n",
       "      <td>ED RAT</td>\n",
       "      <td>2</td>\n",
       "    </tr>\n",
       "    <tr>\n",
       "      <th>3</th>\n",
       "      <td>ED CDU</td>\n",
       "      <td>ED RESUS</td>\n",
       "      <td>2</td>\n",
       "    </tr>\n",
       "    <tr>\n",
       "      <th>4</th>\n",
       "      <td>ED CDU</td>\n",
       "      <td>ED TAF</td>\n",
       "      <td>1</td>\n",
       "    </tr>\n",
       "  </tbody>\n",
       "</table>\n",
       "</div>"
      ],
      "text/plain": [
       "  location next_location  frequency\n",
       "0   ED CDU        ED CDU        180\n",
       "1   ED CDU     ED MAJORS         94\n",
       "2   ED CDU        ED RAT          2\n",
       "3   ED CDU      ED RESUS          2\n",
       "4   ED CDU        ED TAF          1"
      ]
     },
     "execution_count": 13,
     "metadata": {},
     "output_type": "execute_result"
    }
   ],
   "source": [
    "edges = pd.read_csv('edge_list.csv')\n",
    "edges.head()"
   ]
  },
  {
   "cell_type": "markdown",
   "id": "73f3e326",
   "metadata": {},
   "source": [
    "### Draw the whole network"
   ]
  },
  {
   "cell_type": "code",
   "execution_count": 18,
   "id": "3db1b95f",
   "metadata": {},
   "outputs": [],
   "source": [
    "# Normalization function to scale weights to line widths\n",
    "def normalize_weight(weight, min_weight, max_weight, min_width, max_width):\n",
    "    return min_width + (max_width - min_width) * (weight - min_weight) / (max_weight - min_weight)\n",
    "\n",
    "def draw_graph(edges, filename, min_width = 1, max_width = 10):\n",
    "\n",
    "    # Get the minimum and maximum weights from the DataFrame\n",
    "    min_weight = edges['frequency'].min()\n",
    "    max_weight = edges['frequency'].max()\n",
    "\n",
    "    # Create a directed graph from the edge list\n",
    "    G = pgv.AGraph(directed=True)\n",
    "\n",
    "    # Add edges to the graph with weights and varying widths\n",
    "    for index, row in edges.iterrows():\n",
    "        width = normalize_weight(row['frequency'], min_weight, max_weight, min_width, max_width)\n",
    "        G.add_edge(row['location'], row['next_location'], label=row['frequency'], penwidth=width)\n",
    "\n",
    "    # Set graph attributes\n",
    "    G.graph_attr['rankdir'] = 'LR'  # Left to Right\n",
    "\n",
    "    # Draw the graph using dot layout\n",
    "    G.layout(prog='dot')\n",
    "    G.draw(filename)"
   ]
  },
  {
   "cell_type": "code",
   "execution_count": 21,
   "id": "85edd004",
   "metadata": {},
   "outputs": [],
   "source": [
    "draw_graph(edges, filename = 'media/full_network.png')"
   ]
  },
  {
   "cell_type": "markdown",
   "id": "47d67d8e",
   "metadata": {},
   "source": [
    "### Select only rows with more activity"
   ]
  },
  {
   "cell_type": "code",
   "execution_count": 25,
   "id": "5b6c8166",
   "metadata": {},
   "outputs": [],
   "source": [
    "draw_graph(edges[edges.frequency > 500], filename = 'media/full_network_edges_gt_500.png', max_width = 20)"
   ]
  },
  {
   "cell_type": "code",
   "execution_count": null,
   "id": "d8edf5d6",
   "metadata": {},
   "outputs": [],
   "source": []
  }
 ],
 "metadata": {
  "kernelspec": {
   "display_name": "Python 3 (ipykernel)",
   "language": "python",
   "name": "python3"
  },
  "language_info": {
   "codemirror_mode": {
    "name": "ipython",
    "version": 3
   },
   "file_extension": ".py",
   "mimetype": "text/x-python",
   "name": "python",
   "nbconvert_exporter": "python",
   "pygments_lexer": "ipython3",
   "version": "3.9.19"
  }
 },
 "nbformat": 4,
 "nbformat_minor": 5
}
