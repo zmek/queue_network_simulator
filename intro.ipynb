{
 "cells": [
  {
   "cell_type": "markdown",
   "metadata": {},
   "source": [
    "# Introduction to Using Jupyter Notebooks\n",
    "Welcome to this Jupyter Notebook! Jupyter Notebooks are an interactive way to write and execute code, document your work, and visualize data, all within a single interface. \n",
    "\n",
    "## Key Features of Jupyter Notebooks \n",
    "\n",
    "### Cells\n",
    "The notebook is composed of cells. There are two main types of cells:\n",
    "\n",
    "Code Cells: These cells contain code that you can execute.  \n",
    "Markdown Cells: These cells contain text written in Markdown, a lightweight markup language with plain-text formatting syntax. You can use Markdown to add headings, lists, links, and more.  \n",
    "\n",
    "### Execution\n",
    "To run a code cell, click on the cell to select it and press Shift + Enter or click the Run button in the toolbar. The output will be displayed directly below the cell. Markdown cells can also be rendered by selecting the cell and pressing Shift + Enter.\n",
    "\n",
    "### Kernel\n",
    "The kernel is the computational engine that executes the code contained in the notebook. You can restart or change the kernel from the menu if needed (e.g., if the kernel becomes unresponsive or if you want to switch programming languages).\n"
   ]
  },
  {
   "cell_type": "markdown",
   "metadata": {},
   "source": [
    "## Examples of a cell you can run\n",
    "\n",
    "When you run the code cell below, you should see the output \n",
    "\n"
   ]
  },
  {
   "cell_type": "code",
   "execution_count": null,
   "metadata": {},
   "outputs": [],
   "source": [
    "# This is a code cell\n",
    "print(\"Hello, Jupyter!\")"
   ]
  },
  {
   "cell_type": "markdown",
   "metadata": {
    "vscode": {
     "languageId": "plaintext"
    }
   },
   "source": [
    "## Generating a random number \n",
    "\n",
    "Earlier we showed the Excel function =NORMINV(RAND(),0,1) in Python using a Jupyter Notebook. This function generates a random number from a normal distribution with a mean of 0 and a standard deviation of 1. Now we'll show the same thing in Python. \n",
    "\n",
    "Python is very flexible language which has sub-modules (known as libraries) for many different tasks. Here we load one called numpy"
   ]
  },
  {
   "cell_type": "code",
   "execution_count": 3,
   "metadata": {},
   "outputs": [],
   "source": [
    "# Load libraries\n",
    "import numpy as np\n"
   ]
  },
  {
   "cell_type": "markdown",
   "metadata": {},
   "source": [
    "In Excel, RAND() generates a random number between 0 and 1. We'll do the same using numpy."
   ]
  },
  {
   "cell_type": "code",
   "execution_count": 4,
   "metadata": {},
   "outputs": [
    {
     "data": {
      "text/plain": [
       "0.7220244329684345"
      ]
     },
     "execution_count": 4,
     "metadata": {},
     "output_type": "execute_result"
    }
   ],
   "source": [
    "# Generate a random number between 0 and 1\n",
    "uniform_random_number = np.random.rand()\n",
    "uniform_random_number"
   ]
  },
  {
   "cell_type": "markdown",
   "metadata": {},
   "source": [
    "## Converting the random number into a normal distribution \n",
    "\n",
    "The Excel function NORMINV(RAND(), 0, 1) is used to convert the uniformly distributed random number to a normally distributed random number with a mean of 0 and a standard deviation of 1. We can achieve this using scipy.stats.norm.ppf (percent point function, the inverse of the cumulative distribution function)."
   ]
  },
  {
   "cell_type": "code",
   "execution_count": 7,
   "metadata": {},
   "outputs": [
    {
     "data": {
      "text/plain": [
       "-0.3990633476229802"
      ]
     },
     "execution_count": 7,
     "metadata": {},
     "output_type": "execute_result"
    }
   ],
   "source": [
    "\n",
    "# Define mean and standard deviation\n",
    "mean = 0\n",
    "std_dev = 1\n",
    "\n",
    "# Convert the uniform random number to a normal distribution\n",
    "normal_random_number = np.random.normal(loc=mean, scale=std_dev)\n",
    "normal_random_number"
   ]
  },
  {
   "cell_type": "markdown",
   "metadata": {},
   "source": [
    "## Generate 100 random numbers from the normal distribution\n",
    "\n",
    "Here we generate 100 random numbers from a normal distribution with a mean of 0 and a standard deviation of 1, and then save them to an array."
   ]
  },
  {
   "cell_type": "code",
   "execution_count": 11,
   "metadata": {},
   "outputs": [
    {
     "data": {
      "text/plain": [
       "array([-0.81856654, -0.21009567,  1.79625739,  1.32074488, -0.23120355,\n",
       "       -0.26647718, -0.29321916, -0.45055966,  0.11075844, -0.83896495,\n",
       "       -0.30576636,  1.69873435,  0.71345531, -0.70430386, -0.51299036,\n",
       "       -0.60832806,  0.072063  , -0.39167207,  1.00295422,  0.34855528,\n",
       "       -1.08683346, -0.74800435, -1.97532517, -1.50261804,  0.34281196,\n",
       "        2.00044202,  0.788703  , -0.63224526,  0.35490056, -0.2006902 ])"
      ]
     },
     "execution_count": 11,
     "metadata": {},
     "output_type": "execute_result"
    }
   ],
   "source": [
    "\n",
    "\n",
    "# Generate 100 random numbers from a normal distribution with mean 0 and standard deviation 1\n",
    "normal_random_array = np.random.normal(loc=mean, scale=std_dev, size=30)\n",
    "\n",
    "# Show the array\n",
    "normal_random_array"
   ]
  },
  {
   "cell_type": "markdown",
   "metadata": {},
   "source": [
    "## Plot the array"
   ]
  },
  {
   "cell_type": "code",
   "execution_count": 12,
   "metadata": {},
   "outputs": [
    {
     "data": {
      "image/png": "[encoded data removed]",
      "text/plain": [
       "<Figure size 1000x600 with 1 Axes>"
      ]
     },
     "metadata": {},
     "output_type": "display_data"
    }
   ],
   "source": [
    "import matplotlib.pyplot as plt\n",
    "\n",
    "\n",
    "# Plot the array as a histogram\n",
    "plt.figure(figsize=(10, 6))\n",
    "plt.hist(normal_random_array, bins=9, edgecolor='black')\n",
    "plt.title('Histogram of 100 Random Numbers from a Normal Distribution')\n",
    "plt.xlabel('Value')\n",
    "plt.ylabel('Frequency')\n",
    "# plt.grid(True)\n",
    "plt.show()"
   ]
  },
  {
   "cell_type": "code",
   "execution_count": null,
   "metadata": {},
   "outputs": [],
   "source": []
  },
  {
   "cell_type": "code",
   "execution_count": null,
   "metadata": {},
   "outputs": [],
   "source": []
  }
 ],
 "metadata": {
  "kernelspec": {
   "display_name": "Python 3",
   "language": "python",
   "name": "python3"
  },
  "language_info": {
   "codemirror_mode": {
    "name": "ipython",
    "version": 3
   },
   "file_extension": ".py",
   "mimetype": "text/x-python",
   "name": "python",
   "nbconvert_exporter": "python",
   "pygments_lexer": "ipython3",
   "version": "3.9.19"
  }
 },
 "nbformat": 4,
 "nbformat_minor": 2
}
