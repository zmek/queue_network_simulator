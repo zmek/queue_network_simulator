{
 "cells": [
  {
   "cell_type": "markdown",
   "id": "6b8440b8",
   "metadata": {},
   "source": [
    "Intro"
   ]
  },
  {
   "cell_type": "markdown",
   "id": "65e0500d",
   "metadata": {},
   "source": [
    "Import packages and functions"
   ]
  },
  {
   "cell_type": "code",
   "execution_count": 2,
   "id": "a9c1372d",
   "metadata": {},
   "outputs": [],
   "source": [
    "# Reload functions every time\n",
    "%load_ext autoreload\n",
    "%autoreload 2\n",
    "\n",
    "import sys\n",
    "sys.path.insert(0, 'functions')\n",
    "\n",
    "\n",
    "import queue_network_simulator as qns\n",
    "import plotting_functions as pf\n"
   ]
  },
  {
   "cell_type": "markdown",
   "id": "4328324d",
   "metadata": {},
   "source": [
    "Simulation parameters"
   ]
  },
  {
   "cell_type": "code",
   "execution_count": 21,
   "id": "df04375d",
   "metadata": {},
   "outputs": [],
   "source": [
    "analysisID = \"ECU_demo\"\n",
    "analysis_location = \"data\"\n",
    "\n",
    "number_of_runs = 10\n",
    "warm_up_duration = 40\n",
    "sim_duration = 60"
   ]
  },
  {
   "cell_type": "markdown",
   "id": "58650428",
   "metadata": {},
   "source": [
    "Read input"
   ]
  },
  {
   "cell_type": "code",
   "execution_count": 22,
   "id": "74a4ca5e",
   "metadata": {},
   "outputs": [
    {
     "data": {
      "text/plain": [
       "{'ECU': 11, 'ITU': 32}"
      ]
     },
     "execution_count": 22,
     "metadata": {},
     "output_type": "execute_result"
    }
   ],
   "source": [
    "model_parameters = qns.read_input(analysisID,analysis_location)\n",
    "\n",
    "model_parameters[\"capacities\"]"
   ]
  },
  {
   "cell_type": "code",
   "execution_count": 23,
   "id": "7123f3ed",
   "metadata": {},
   "outputs": [
    {
     "data": {
      "text/plain": [
       "{'traj1':   step service_time_distribution length_of_need\n",
       " 0  ECU                 lognormal          6;0.6,\n",
       " 'traj2':   step service_time_distribution length_of_need\n",
       " 0  ITU                 lognormal          6;0.6,\n",
       " 'traj3':   step service_time_distribution length_of_need\n",
       " 0  ECU                 lognormal       0.6;0.06\n",
       " 1  ITU                 lognormal       5.4;0.54,\n",
       " 'traj4':   step service_time_distribution length_of_need\n",
       " 0  ITU                 lognormal       5.4;0.54\n",
       " 1  ECU                 lognormal       0.6;0.06,\n",
       " 'traj5':   step service_time_distribution length_of_need\n",
       " 0  ECU                 lognormal       0.6;0.06\n",
       " 1  ITU                 lognormal       4.8;0.48\n",
       " 2  ECU                 lognormal       0.6;0.06}"
      ]
     },
     "execution_count": 23,
     "metadata": {},
     "output_type": "execute_result"
    }
   ],
   "source": [
    "model_parameters[\"trajectories\"]"
   ]
  },
  {
   "cell_type": "markdown",
   "id": "ae552afa",
   "metadata": {},
   "source": [
    "Run simulation"
   ]
  },
  {
   "cell_type": "code",
   "execution_count": 9,
   "id": "1dc92aaa",
   "metadata": {},
   "outputs": [
    {
     "name": "stdout",
     "output_type": "stream",
     "text": [
      "Run 1 of 10\n",
      "\n",
      "Run 2 of 10\n",
      "\n",
      "Run 3 of 10\n",
      "\n",
      "Run 4 of 10\n",
      "\n",
      "Run 5 of 10\n",
      "\n",
      "Run 6 of 10\n",
      "\n",
      "Run 7 of 10\n",
      "\n",
      "Run 8 of 10\n",
      "\n",
      "Run 9 of 10\n",
      "\n",
      "Run 10 of 10\n",
      "\n"
     ]
    }
   ],
   "source": [
    "raw_data = {}\n",
    "\n",
    "\n",
    "for r in range(number_of_runs):\n",
    "    print (f\"Run {r+1} of {number_of_runs}\")\n",
    "    my_model = qns.PathwayModel(r, model_parameters, warm_up_duration, sim_duration)\n",
    "    my_model.run(r)\n",
    "    raw_data[r+1] = my_model.output\n",
    "    print()"
   ]
  },
  {
   "cell_type": "markdown",
   "id": "8f81f6a7",
   "metadata": {},
   "source": [
    "Plot and save results"
   ]
  },
  {
   "cell_type": "code",
   "execution_count": 10,
   "id": "acec627f",
   "metadata": {},
   "outputs": [
    {
     "name": "stdout",
     "output_type": "stream",
     "text": [
      "6.066333556977688\n"
     ]
    },
    {
     "data": {
      "image/png": "[encoded data removed]",
      "text/plain": [
       "<Figure size 432x288 with 1 Axes>"
      ]
     },
     "metadata": {
      "needs_background": "light"
     },
     "output_type": "display_data"
    },
    {
     "name": "stdout",
     "output_type": "stream",
     "text": [
      "0.16273569476903924\n"
     ]
    },
    {
     "data": {
      "image/png": "[encoded data removed]",
      "text/plain": [
       "<Figure size 432x288 with 1 Axes>"
      ]
     },
     "metadata": {
      "needs_background": "light"
     },
     "output_type": "display_data"
    },
    {
     "name": "stdout",
     "output_type": "stream",
     "text": [
      "0.027475761100451204\n"
     ]
    },
    {
     "data": {
      "image/png": "[encoded data removed]",
      "text/plain": [
       "<Figure size 432x288 with 1 Axes>"
      ]
     },
     "metadata": {
      "needs_background": "light"
     },
     "output_type": "display_data"
    }
   ],
   "source": [
    "\n",
    "plot_from = warm_up_duration + 1\n",
    "plot_to = warm_up_duration + sim_duration\n",
    "\n",
    "time_transformation = 1\n",
    "\n",
    "\n",
    "pf.plot_time_in_system(raw_data, plot_from, plot_to, analysisID, analysis_location, time_transformation)\n",
    "\n",
    "for node_iter in my_model.node_ids:\n",
    "    pf.plot_waiting_time(raw_data, node_iter, plot_from, plot_to, analysisID, analysis_location, time_transformation)\n",
    "\n",
    "\n"
   ]
  },
  {
   "cell_type": "code",
   "execution_count": 9,
   "id": "8f9b9f37",
   "metadata": {},
   "outputs": [
    {
     "data": {
      "text/plain": [
       "{'trajectories': {'traj1':      step service_time_distribution  length_of_need\n",
       "  0  clinic               exponential               4},\n",
       " 'node_ids': 0    clinic\n",
       " Name: step, dtype: object,\n",
       " 'node_names': {'clinic': 'bed'},\n",
       " 'capacities': {'clinic': 50},\n",
       " 'node_cost_per_time': {'clinic': 1},\n",
       " 'arrival_distribution': 'poisson',\n",
       " 'arrival_distr_parameter': 12,\n",
       " 'traj_prop': {'traj1': 1}}"
      ]
     },
     "execution_count": 9,
     "metadata": {},
     "output_type": "execute_result"
    }
   ],
   "source": [
    "model_parameters"
   ]
  },
  {
   "cell_type": "code",
   "execution_count": 11,
   "id": "00e516d7",
   "metadata": {},
   "outputs": [
    {
     "data": {
      "text/plain": [
       "{1: <queue_network_simulator.Output at 0x2ce247627f0>,\n",
       " 2: <queue_network_simulator.Output at 0x2ce23694550>,\n",
       " 3: <queue_network_simulator.Output at 0x2ce2b1413d0>,\n",
       " 4: <queue_network_simulator.Output at 0x2ce2b139b20>,\n",
       " 5: <queue_network_simulator.Output at 0x2ce24f510d0>,\n",
       " 6: <queue_network_simulator.Output at 0x2ce2b16fd90>,\n",
       " 7: <queue_network_simulator.Output at 0x2ce2b182310>,\n",
       " 8: <queue_network_simulator.Output at 0x2ce2b1759d0>,\n",
       " 9: <queue_network_simulator.Output at 0x2ce2b145490>,\n",
       " 10: <queue_network_simulator.Output at 0x2ce24f4fac0>}"
      ]
     },
     "execution_count": 11,
     "metadata": {},
     "output_type": "execute_result"
    }
   ],
   "source": [
    "raw_data"
   ]
  },
  {
   "cell_type": "code",
   "execution_count": null,
   "id": "9ee09fe5",
   "metadata": {},
   "outputs": [],
   "source": []
  }
 ],
 "metadata": {
  "kernelspec": {
   "display_name": "Python 3 (ipykernel)",
   "language": "python",
   "name": "python3"
  },
  "language_info": {
   "codemirror_mode": {
    "name": "ipython",
    "version": 3
   },
   "file_extension": ".py",
   "mimetype": "text/x-python",
   "name": "python",
   "nbconvert_exporter": "python",
   "pygments_lexer": "ipython3",
   "version": "3.9.7"
  }
 },
 "nbformat": 4,
 "nbformat_minor": 5
}
